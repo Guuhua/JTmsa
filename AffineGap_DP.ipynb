{
 "cells": [
  {
   "cell_type": "markdown",
   "metadata": {},
   "source": [
    "pairwise sequence alignment\n",
    "- Affine gap penalty\n",
    "\n",
    "space complexity: O(mn)\n",
    "\n",
    "time complexity: O(mn)\n",
    "\n",
    "author: Juntao Chen\n",
    "\n",
    "date: 12.27.2021"
   ]
  },
  {
   "cell_type": "code",
   "execution_count": null,
   "metadata": {},
   "outputs": [],
   "source": [
    "def s(xi,yi,m=1,mis=-2):\n",
    "    \"\"\"\n",
    "    return the score of match or mismatch\n",
    "    \"\"\"\n",
    "    if xi == yi:\n",
    "        return m\n",
    "    else:\n",
    "        return mis\n",
    "\n",
    "\n",
    "def ChooseWay(p0: float, p1: float, p2: float):\n",
    "    \"\"\"\n",
    "    choose the trace path\n",
    "    \"\"\"\n",
    "    if p0 >= p1:\n",
    "        if p0 >= p2:\n",
    "            return 't'\n",
    "        else:\n",
    "            return 'y'\n",
    "    elif p1 >= p2:\n",
    "        return 'x'\n",
    "    else:\n",
    "        return 'y'"
   ]
  },
  {
   "cell_type": "code",
   "execution_count": 2,
   "metadata": {},
   "outputs": [],
   "source": [
    "# PSA ~ Affine gap penalty\n",
    "def PSA_AGP(A, B, d=3, e=1):\n",
    "    # n>=m\n",
    "    # record the loc of A & B\n",
    "    state_ex = 0\n",
    "    if len(A)>len(B):\n",
    "        A, B = B, A\n",
    "        state_ex = 1\n",
    "    n = len(B)\n",
    "    m = len(A)\n",
    "\n",
    "    t = [[-float('Inf')]*(n+1) for _ in range(m+1)]\n",
    "    x = [[-float('Inf')]*(n+1) for _ in range(m+1)]\n",
    "    y = [[-float('Inf')]*(n+1) for _ in range(m+1)]\n",
    "\n",
    "    # init\n",
    "    t[0][0] = 0\n",
    "    for i in range(1, m+1):\n",
    "        y[i][0] = -d - e*(i-1)\n",
    "\n",
    "    for j in range(1, n+1):\n",
    "        x[0][j] = -d - e*(j-1)\n",
    "\n",
    "    for i in range(1, m+1):\n",
    "        for j in range(1, n+1):\n",
    "            # x :  _ ~ B[j]\n",
    "            x[i][j] = max(t[i][j-1]-d, x[i][j-1]-e)\n",
    "            # y : A[i] ~ _ \n",
    "            y[i][j] = max(t[i-1][j]-d, y[i-1][j]-e)\n",
    "            # t : A[i] ~ B[j]\n",
    "            t[i][j] = max(t[i-1][j-1], x[i-1][j-1], y[i-1][j-1]) + s(A[i-1], B[j-1])\n",
    "\n",
    "    i = m\n",
    "    j = n\n",
    "    seq_A = \"\"\n",
    "    seq_B = \"\"\n",
    "\n",
    "    score_ = max(t[-1][-1], x[-1][-1], y[-1][-1])\n",
    "    score = ChooseWay(t[i][j], x[i][j], y[i][j])\n",
    "\n",
    "    while (i > 0 or j > 0):\n",
    "        if score == 't' and i>0 and j>0:\n",
    "            if t[i][j] == t[i-1][j-1] + s(A[i-1], B[j-1]) and i>1 and j>1:\n",
    "                score = 't'\n",
    "            elif t[i][j] == x[i-1][j-1] + s(A[i-1], B[j-1]) and j>1:\n",
    "                score = 'x'\n",
    "            elif t[i][j] == y[i-1][j-1] + s(A[i-1], B[j-1]) and i>1:\n",
    "                score = 'y'\n",
    "            seq_A += A[i-1]\n",
    "            seq_B += B[j-1]\n",
    "            i -= 1\n",
    "            j -= 1\n",
    "        elif score == 'x' and j>0:\n",
    "            if x[i][j] == t[i][j-1] - d and i>=1 and j>1:\n",
    "                score = 't'\n",
    "            elif x[i][j] == x[i][j-1] - e:\n",
    "                score = 'x'\n",
    "            seq_A += '-'\n",
    "            seq_B += B[j-1]\n",
    "            j -= 1\n",
    "        elif score == 'y' and i>0:\n",
    "            if y[i][j] == t[i-1][j] - d and i>1 and j>=1:\n",
    "                score = 't'\n",
    "            elif y[i][j] == y[i-1][j] - e:\n",
    "                score = 'y'\n",
    "            seq_A += A[i-1]\n",
    "            seq_B += '-'\n",
    "            i -= 1\n",
    "\n",
    "    # exchange the loc of A & B\n",
    "    if state_ex:\n",
    "        seq_A, seq_B = seq_B, seq_A\n",
    "\n",
    "    return score_, seq_A[::-1], seq_B[::-1]"
   ]
  },
  {
   "cell_type": "code",
   "execution_count": 5,
   "metadata": {},
   "outputs": [
    {
     "data": {
      "text/plain": [
       "(0, 'CCATTTTT', 'CCA---TT')"
      ]
     },
     "execution_count": 5,
     "metadata": {},
     "output_type": "execute_result"
    }
   ],
   "source": [
    "A = 'CCATTTTT'\n",
    "B = 'CCATT'\n",
    "PSA_AGP(A,B)"
   ]
  }
 ],
 "metadata": {
  "kernelspec": {
   "display_name": "Python 3",
   "language": "python",
   "name": "python3"
  },
  "language_info": {
   "codemirror_mode": {
    "name": "ipython",
    "version": 3
   },
   "file_extension": ".py",
   "mimetype": "text/x-python",
   "name": "python",
   "nbconvert_exporter": "python",
   "pygments_lexer": "ipython3",
   "version": "3.8.8"
  }
 },
 "nbformat": 4,
 "nbformat_minor": 4
}
