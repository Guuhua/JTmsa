{
 "cells": [
  {
   "cell_type": "code",
   "execution_count": 1,
   "metadata": {},
   "outputs": [],
   "source": [
    "# mathch 1 mismatch -1\n",
    "def p(i,j):\n",
    "    return int(s[i]==t[j]) - int(s[i]!=t[j])"
   ]
  },
  {
   "cell_type": "code",
   "execution_count": 3,
   "metadata": {},
   "outputs": [],
   "source": [
    "def BestScore(s, t):\n",
    "    m = len(s)\n",
    "    n = len(t)\n",
    "    a = [0] * (n+1)\n",
    "    \n",
    "    for j in range(0, n+1):\n",
    "        a[j] = j * g\n",
    "\n",
    "    for i in range(1, m+1):\n",
    "        old = a[0]\n",
    "        a[0] = i*g\n",
    "        for j in range(1, n+1):\n",
    "            temp = a[j]\n",
    "            a[j] = max(a[j]+g, old+int(s[i-1]==t[j-1]) - int(s[i-1]!=t[j-1]), a[j-1]+g)\n",
    "            old = temp\n",
    "    return a"
   ]
  },
  {
   "cell_type": "code",
   "execution_count": 4,
   "metadata": {},
   "outputs": [],
   "source": [
    "# Divide and conquer strategy\n",
    "def Align(s, t, a, b, c, d):\n",
    "\n",
    "    s_align = list(s)\n",
    "    t_align = list(t)\n",
    "\n",
    "    if s[a:b] == '' or t[c:d] == '':\n",
    "        if s[a:b]:\n",
    "            Align_s[a:b] = ['_']*len(s[a:b])\n",
    "    else:\n",
    "        i = (a+b)//2\n",
    "        # dimension: d-c\n",
    "        pref_sim = BestScore(s[a:i], t[c:d])\n",
    "        \n",
    "        t_rev = t[c:d][::-1]\n",
    "        s_rev = s[i+1:b][::-1]\n",
    "        suff_sim = BestScore(s_rev, t_rev)\n",
    "        suff_sim = suff_sim[::-1]\n",
    "\n",
    "        posmax = c-1\n",
    "        typemax = '_'\n",
    "        Vmax = pref_sim[0] + g + suff_sim[0]\n",
    "\n",
    "        # 遍历d-c遍找到与i最匹配的j\n",
    "        for j in range(c, d):\n",
    "            if pref_sim[j-c] + p(i,j) + suff_sim[j+1-c] > Vmax:\n",
    "                posmax = j\n",
    "                typemax = 'N'\n",
    "                Vmax = pref_sim[j-c] + p(i,j) + suff_sim[j-c+1]\n",
    "\n",
    "            if pref_sim[j-c+1] + g + suff_sim[j-c+1] > Vmax:\n",
    "                posmax = j\n",
    "                typemax = '_'\n",
    "                Vmax = pref_sim[j-c] + g + suff_sim[j-c]\n",
    "\n",
    "        if typemax == '_':\n",
    "            Align_s[i] = '_' \n",
    "            Align(s, t, a, i, c, posmax+1)\n",
    "            Align(s, t, i+1, b, posmax+1, d)\n",
    "\n",
    "        else:\n",
    "            Align_s[i] = posmax\n",
    "            Align(s, t, a, i, c, posmax)\n",
    "            Align(s, t, i+1, b, posmax+1, d)\n",
    "\n",
    "        if '' not in Align_s:\n",
    "            j = 0\n",
    "            k_t = 0\n",
    "            k_s = 0\n",
    "            for i in Align_s:\n",
    "                if i == '_':\n",
    "                    t_align.insert(j+1+k_t, '_')\n",
    "                    k_t += 1\n",
    "                elif i-j > 1:\n",
    "                    if j not in Align_s:\n",
    "                        j -= 1\n",
    "                    for ii in range(i-j-1):\n",
    "                        s_align.insert(ii+Align_s.index(i)+k_s,'_')\n",
    "                    k_s += i-j-1\n",
    "                    j = i\n",
    "                else:\n",
    "                    j = i\n",
    "\n",
    "    return s_align, t_align"
   ]
  },
  {
   "cell_type": "code",
   "execution_count": 6,
   "metadata": {},
   "outputs": [
    {
     "name": "stdout",
     "output_type": "stream",
     "text": [
      "Best_score :  -1\n",
      "_ _ _ C C A A T T T T\n",
      "T T G C C A _ T _ _ T\n"
     ]
    }
   ],
   "source": [
    "# input sequences\n",
    "t = 'TTGCCATT'\n",
    "s = 'CCAATTTT'\n",
    "\n",
    "# aligned sequence\n",
    "Align_s = ['']*len(s)\n",
    "Score = BestScore(s, t)\n",
    "s_a, t_a = Align(s,t,0,len(s),0,len(t))\n",
    "\n",
    "print('Best_score : ', Score[-1])\n",
    "print(' '.join(s_a))\n",
    "print(' '.join(t_a))"
   ]
  },
  {
   "cell_type": "code",
   "execution_count": null,
   "metadata": {},
   "outputs": [],
   "source": []
  }
 ],
 "metadata": {
  "kernelspec": {
   "display_name": "Python 3",
   "language": "python",
   "name": "python3"
  },
  "language_info": {
   "codemirror_mode": {
    "name": "ipython",
    "version": 3
   },
   "file_extension": ".py",
   "mimetype": "text/x-python",
   "name": "python",
   "nbconvert_exporter": "python",
   "pygments_lexer": "ipython3",
   "version": "3.8.5"
  }
 },
 "nbformat": 4,
 "nbformat_minor": 4
}
