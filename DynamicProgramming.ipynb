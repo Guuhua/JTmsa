{
 "cells": [
  {
   "cell_type": "code",
   "execution_count": 1,
   "metadata": {},
   "outputs": [],
   "source": [
    "# return the score of match or mismatch\n",
    "def s(xi,yi,m=1,mis=-2):\n",
    "    if xi == yi:\n",
    "        return m\n",
    "    else:\n",
    "        return mis"
   ]
  },
  {
   "cell_type": "code",
   "execution_count": 4,
   "metadata": {},
   "outputs": [],
   "source": [
    "# PSA ~ linear gap penalty ~ Dynamic programming\n",
    "def PSA(A, B, g = -1):\n",
    "    n = len(B)\n",
    "    m = len(A)\n",
    "\n",
    "    p = [[0]*(n+1) for _ in range(m+1)]\n",
    "\n",
    "    # init\n",
    "    for i in range(1, m+1):\n",
    "        p[i][0] = g*i\n",
    "    for j in range(1, n+1):\n",
    "        p[0][j] = g*j\n",
    "\n",
    "    for i in range(0, m):\n",
    "        for j in range(0, n):\n",
    "            p[i+1][j+1] = max(p[i][j] + s(A[i], B[j]), p[i][j+1] + g, p[i+1][j] + g)\n",
    "\n",
    "    i = m\n",
    "    j = n\n",
    "    seq_A = \"\"\n",
    "    seq_B = \"\"\n",
    "    \n",
    "    while (i > 0 or j > 0):\n",
    "        if i > 0 and j > 0:\n",
    "            if p[i][j] == p[i-1][j-1] + s(A[i-1], B[j-1]):\n",
    "                seq_A += A[i-1]\n",
    "                seq_B += B[j-1]        \n",
    "                i -= 1\n",
    "                j -= 1\n",
    "                continue\n",
    "        if i > 0:\n",
    "            if p[i][j] == p[i-1][j] + g:\n",
    "                seq_A += A[i-1]\n",
    "                seq_B += '-'        \n",
    "                i -= 1\n",
    "                continue\n",
    "        if j > 0:\n",
    "            if p[i][j] == p[i][j-1] + g:\n",
    "                seq_A += '-'\n",
    "                seq_B += B[j-1]        \n",
    "                j -= 1\n",
    "                continue\n",
    "        else:\n",
    "            print(i,j)\n",
    "            raise ValueError('i,j are Error')\n",
    "    \n",
    "    return p[-1][-1], seq_A[::-1], seq_B[::-1]"
   ]
  },
  {
   "cell_type": "code",
   "execution_count": 6,
   "metadata": {},
   "outputs": [
    {
     "data": {
      "text/plain": [
       "(-1, 'TTGCC-A--TT', '---CCAATTTT')"
      ]
     },
     "execution_count": 6,
     "metadata": {},
     "output_type": "execute_result"
    }
   ],
   "source": [
    "A = 'TTGCCATT'\n",
    "B = 'CCAATTTT'\n",
    "PSA(A,B)"
   ]
  },
  {
   "cell_type": "code",
   "execution_count": null,
   "metadata": {},
   "outputs": [],
   "source": []
  },
  {
   "cell_type": "code",
   "execution_count": null,
   "metadata": {},
   "outputs": [],
   "source": []
  }
 ],
 "metadata": {
  "kernelspec": {
   "display_name": "Python 3",
   "language": "python",
   "name": "python3"
  },
  "language_info": {
   "codemirror_mode": {
    "name": "ipython",
    "version": 3
   },
   "file_extension": ".py",
   "mimetype": "text/x-python",
   "name": "python",
   "nbconvert_exporter": "python",
   "pygments_lexer": "ipython3",
   "version": "3.8.8"
  }
 },
 "nbformat": 4,
 "nbformat_minor": 4
}
